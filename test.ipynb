{
 "cells": [
  {
   "cell_type": "code",
   "execution_count": 7,
   "metadata": {},
   "outputs": [
    {
     "data": {
      "text/plain": [
       "'-XdyL-reY_ABoTkYXKu7W84ZpyLAHMqb2Y05LrAHizsY7hMyV7Xf3ilp'"
      ]
     },
     "execution_count": 7,
     "metadata": {},
     "output_type": "execute_result"
    }
   ],
   "source": [
    "import secrets\n",
    "\n",
    "secrets.token_urlsafe(42)\n"
   ]
  },
  {
   "cell_type": "code",
   "execution_count": 5,
   "metadata": {},
   "outputs": [
    {
     "name": "stdout",
     "output_type": "stream",
     "text": [
      "b\"\\xa9p\\x892\\xcc`Qje](\\x94\\x83\\x05(f\\xdd\\x8e\\xc4\\x0f\\x85\\xe2\\xc6\\xab\"\n",
      "<class 'str'>\n"
     ]
    }
   ],
   "source": [
    "import os\n",
    "print(os.getenv(\"SECRET_KEY\"))\n",
    "print(type(os.getenv(\"SECRET_KEY\")))"
   ]
  },
  {
   "cell_type": "code",
   "execution_count": 1,
   "metadata": {},
   "outputs": [
    {
     "data": {
      "text/plain": [
       "{'args': 'query',\n",
       " 'form': 'formData',\n",
       " 'headers': 'header',\n",
       " 'json': 'body',\n",
       " 'values': 'query',\n",
       " 'files': 'formData'}"
      ]
     },
     "execution_count": 1,
     "metadata": {},
     "output_type": "execute_result"
    }
   ],
   "source": [
    "import flask_restx\n",
    "\n",
    "flask_restx.reqparse.LOCATIONS"
   ]
  }
 ],
 "metadata": {
  "kernelspec": {
   "display_name": ".venv",
   "language": "python",
   "name": "python3"
  },
  "language_info": {
   "codemirror_mode": {
    "name": "ipython",
    "version": 3
   },
   "file_extension": ".py",
   "mimetype": "text/x-python",
   "name": "python",
   "nbconvert_exporter": "python",
   "pygments_lexer": "ipython3",
   "version": "3.9.5"
  },
  "orig_nbformat": 4
 },
 "nbformat": 4,
 "nbformat_minor": 2
}
